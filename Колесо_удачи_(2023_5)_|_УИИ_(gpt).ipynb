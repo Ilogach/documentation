{
  "nbformat": 4,
  "nbformat_minor": 0,
  "metadata": {
    "colab": {
      "provenance": [],
      "include_colab_link": true
    },
    "kernelspec": {
      "name": "python3",
      "display_name": "Python 3"
    },
    "language_info": {
      "name": "python"
    }
  },
  "cells": [
    {
      "cell_type": "markdown",
      "metadata": {
        "id": "view-in-github",
        "colab_type": "text"
      },
      "source": [
        "<a href=\"https://colab.research.google.com/github/Ilogach/documentation/blob/master/%D0%9A%D0%BE%D0%BB%D0%B5%D1%81%D0%BE_%D1%83%D0%B4%D0%B0%D1%87%D0%B8_(2023_5)_%7C_%D0%A3%D0%98%D0%98_(gpt).ipynb\" target=\"_parent\"><img src=\"https://colab.research.google.com/assets/colab-badge.svg\" alt=\"Open In Colab\"/></a>"
      ]
    },
    {
      "cell_type": "code",
      "execution_count": null,
      "metadata": {
        "id": "MMKaCC7w50qC",
        "cellView": "form"
      },
      "outputs": [],
      "source": [
        "#@title Для запуска \"**Колеса удачи**\": <h5><br> 1. Нажмите на треугольничек внизу-слева <br> 2. В появившемся окне нажмите «Выполнить» («Run anyway») <br> 3. Выберите уровень и запустите следующую ячейку <br> 4. Если по какой-то причине у вас не сработала рулетка, то воспользуйтесь нашей <a href='https://neural-university.ru/special_offer?utm_source=int&utm_medium=ruletka&utm_campaign=chatgpt'>формой для предзаказа</a> и наши менеджеры обязательно вам помогут!\n",
        "!pip -q install bonus==0.6.26\n",
        "from bonus import bonus\n",
        "#import bonus\n",
        "import ipywidgets as widgets\n",
        "from IPython import display as dsp\n",
        "dsp.clear_output(wait=True)\n",
        "btn_start = widgets.Button(\n",
        "    description='Запустить колесо',\n",
        "    disabled=False,\n",
        "    button_style='info', # 'success', 'info', 'warning', 'danger' or ''\n",
        "    tooltip='Запуск',\n",
        "    icon='check'\n",
        ")\n",
        "\n",
        "select = widgets.RadioButtons(\n",
        "    options=['Light', 'Pro'],\n",
        "#     value='pineapple',\n",
        "    description='Уровень:',\n",
        "    disabled=False\n",
        ")\n",
        "display(select)\n",
        "display(btn_start)\n",
        "\n",
        "def btn_start_clicked(b):\n",
        "  btn_start.layout.display = 'none'\n",
        "  bonus.Start_levels(select.index+50)\n",
        "\n",
        "btn_start.on_click(btn_start_clicked)"
      ]
    },
    {
      "cell_type": "markdown",
      "source": [
        "Список бонусов для уровня **LIGHT**"
      ],
      "metadata": {
        "id": "wjsIhPtze4pI"
      }
    },
    {
      "cell_type": "markdown",
      "source": [
        "| Бонус | Стоимость | Вероятность выпадения |\n",
        "| :- | -: | :-: |\n",
        "|Выкуп стоимости\t| 39 900р | 10%\n",
        "|5 zoom консультаций\t|9 500р\t|30%\n",
        "|10 zoom консультаций\t|14 900р\t|10%\n",
        "|Бонусы\t|5 000р\t|20%\n",
        "|Бонусы\t|10 000р\t|10%\n",
        "|1 стажировка |14 900р\t|5%\n",
        "|Скидка на курс |5 000р\t|10%"
      ],
      "metadata": {
        "id": "1w2mNxxQen1u"
      }
    },
    {
      "cell_type": "markdown",
      "source": [
        "Список бонусов для уровня **PRO**"
      ],
      "metadata": {
        "id": "radygXrwfl9a"
      }
    },
    {
      "cell_type": "markdown",
      "source": [
        "| Бонус | Стоимость | Вероятность выпадения |\n",
        "| :- | -: | :-: |\n",
        "|Выкуп стоимости\t| 39 900р | 20%\n",
        "|5 zoom консультаций\t|9 500р\t|30%\n",
        "|10 zoom консультаций\t|14 900р\t|10%\n",
        "|20 zoom консультаций\t|29 800р\t|5%\n",
        "|Бонусы\t|5 000р\t|20%\n",
        "|Бонусы\t|10 000р\t|10%\n",
        "|Бонусы\t|20 000р\t|5%\n",
        "|1 стажировка |14 900р\t|10%\n",
        "|2 стажировка |24 900р\t|5%\n",
        "|Скидка на курс\t| 10 000р | 5%"
      ],
      "metadata": {
        "id": "Hhu1Z5MhgCoH"
      }
    },
    {
      "cell_type": "code",
      "source": [],
      "metadata": {
        "id": "qvNu1rmjwDBJ"
      },
      "execution_count": null,
      "outputs": []
    }
  ]
}